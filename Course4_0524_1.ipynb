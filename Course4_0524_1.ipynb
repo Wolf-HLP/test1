{
 "cells": [
  {
   "cell_type": "code",
   "execution_count": 5,
   "id": "728c6e66",
   "metadata": {
    "colab": {
     "base_uri": "https://localhost:8080/",
     "height": 438,
     "referenced_widgets": [
      "f308c5f7f68b4599940530c6a197d71c",
      "2cfb96c0373644f89256a79ee46d9ed4",
      "ded9edabe8fe4642825842044d767eb1",
      "a804be90fc684d31af37ade5349bf699",
      "f3ed3ea271734368aaa5136f60dedf60",
      "40eba6aca31e4666805309278ede2aac",
      "e6bfa62ff56e4426927355d0cd479866",
      "51abb9146ce24620aa7373fa7ebaf9b9",
      "5cb793b0ba024552b8cf2eefd465b77a",
      "85e5d9a68be4446d8a671d1ac2083c94",
      "c7f8b6b5cead4269aa13bea067d4a016",
      "1128a7e43e684b08bb670c0890267980",
      "60a9949721ce45d89eefaeb6f8ade53f",
      "0023cee2281f40108a4a0fe1f40210c7",
      "5bcfb466c3dd43889c2bb4f441d8186e",
      "d127ea4bdfa34f5aae42ca27669d1034",
      "d1872d6cfd15476f8d11aa07071c9e8d",
      "088351d4738543cd90980cb151165c74"
     ]
    },
    "id": "728c6e66",
    "outputId": "7e72e478-cd1e-48ec-f9ca-140b24362dde"
   },
   "outputs": [
    {
     "name": "stderr",
     "output_type": "stream",
     "text": [
      "[nltk_data] Downloading package punkt to\n",
      "[nltk_data]     C:\\Users\\user\\AppData\\Roaming\\nltk_data...\n",
      "[nltk_data]   Package punkt is already up-to-date!\n",
      "[nltk_data] Downloading package averaged_perceptron_tagger to\n",
      "[nltk_data]     C:\\Users\\user\\AppData\\Roaming\\nltk_data...\n",
      "[nltk_data]   Package averaged_perceptron_tagger is already up-to-\n",
      "[nltk_data]       date!\n"
     ]
    },
    {
     "data": {
      "application/vnd.jupyter.widget-view+json": {
       "model_id": "973bdda96ad34d4390ff6ea97554825a",
       "version_major": 2,
       "version_minor": 0
      },
      "text/plain": [
       "Text(value='Cut_POS_NER', description='Category:', layout=Layout(width='80%'))"
      ]
     },
     "metadata": {},
     "output_type": "display_data"
    },
    {
     "data": {
      "application/vnd.jupyter.widget-view+json": {
       "model_id": "4817b0210f554682a2c17478cce234df",
       "version_major": 2,
       "version_minor": 0
      },
      "text/plain": [
       "Text(value='propose_marriage.png', description='image_file', layout=Layout(width='80%'), placeholder='propose_…"
      ]
     },
     "metadata": {},
     "output_type": "display_data"
    },
    {
     "data": {
      "application/vnd.jupyter.widget-view+json": {
       "model_id": "37b96d22d5d24ef8902a76ae8c904d69",
       "version_major": 2,
       "version_minor": 0
      },
      "text/plain": [
       "Text(value='be is are', description='輸入停用詞', layout=Layout(width='80%'), placeholder='Stop Word:')"
      ]
     },
     "metadata": {},
     "output_type": "display_data"
    },
    {
     "data": {
      "application/vnd.jupyter.widget-view+json": {
       "model_id": "22f3355aba89489e9ab8254e130617b4",
       "version_major": 2,
       "version_minor": 0
      },
      "text/plain": [
       "Text(value='all', description='輸入POS', layout=Layout(width='80%'), placeholder='輸入POS or all:')"
      ]
     },
     "metadata": {},
     "output_type": "display_data"
    },
    {
     "data": {
      "application/vnd.jupyter.widget-view+json": {
       "model_id": "894adeab4bd94768b6fb71b1d8f2c28f",
       "version_major": 2,
       "version_minor": 0
      },
      "text/plain": [
       "Text(value='', description='輸入網址:', layout=Layout(width='80%'), placeholder='Enter URL')"
      ]
     },
     "metadata": {},
     "output_type": "display_data"
    },
    {
     "data": {
      "application/vnd.jupyter.widget-view+json": {
       "model_id": "98c8eb1e93f140a08a63ece101f7c0d9",
       "version_major": 2,
       "version_minor": 0
      },
      "text/plain": [
       "Button(button_style='success', description='確定', style=ButtonStyle(), tooltip='Click to submit')"
      ]
     },
     "metadata": {},
     "output_type": "display_data"
    },
    {
     "data": {
      "application/vnd.jupyter.widget-view+json": {
       "model_id": "fc8284d4d3c84a77a6462ecb9fd3424e",
       "version_major": 2,
       "version_minor": 0
      },
      "text/plain": [
       "Label(value='Waiting..')"
      ]
     },
     "metadata": {},
     "output_type": "display_data"
    },
    {
     "name": "stderr",
     "output_type": "stream",
     "text": [
      "Processing URLs: 100%|███████████████████████████████████████████████████████████████████| 1/1 [00:01<00:00,  1.57s/it]\n"
     ]
    },
    {
     "name": "stdout",
     "output_type": "stream",
     "text": [
      "defaultdict(<class 'int'>, {'n': 2869, 'prep': 704, 'art': 629, 'v': 943, 'adj': 438, 'adv': 191, 'conj': 225, 'to': 128, 'pron': 88, 'fw': 1, 'pronoun': 7})\n",
      "Wordcloud_Result_IPhone_all.png\n"
     ]
    },
    {
     "name": "stderr",
     "output_type": "stream",
     "text": [
      "Processing URLs: 100%|███████████████████████████████████████████████████████████████████| 1/1 [00:01<00:00,  1.47s/it]\n"
     ]
    },
    {
     "name": "stdout",
     "output_type": "stream",
     "text": [
      "defaultdict(<class 'int'>, {'v': 943})\n",
      "Wordcloud_Result_IPhone_v.png\n"
     ]
    },
    {
     "name": "stderr",
     "output_type": "stream",
     "text": [
      "Processing URLs: 100%|███████████████████████████████████████████████████████████████████| 1/1 [00:01<00:00,  1.55s/it]\n"
     ]
    },
    {
     "name": "stdout",
     "output_type": "stream",
     "text": [
      "defaultdict(<class 'int'>, {'v': 871})\n",
      "Wordcloud_Result_IPhone_v.png\n"
     ]
    }
   ],
   "source": [
    "import ipywidgets as widgets\n",
    "from IPython.display import display, clear_output\n",
    "import requests as rq\n",
    "from bs4 import BeautifulSoup\n",
    "import nltk\n",
    "from nltk.tokenize import RegexpTokenizer\n",
    "import openpyxl\n",
    "import spacy\n",
    "import numpy as np\n",
    "import time\n",
    "import datetime\n",
    "import os\n",
    "import re\n",
    "from tqdm import tqdm\n",
    "from PIL import ImageTk, Image\n",
    "from nltk import sent_tokenize\n",
    "from wordcloud import WordCloud\n",
    "from collections import Counter\n",
    "from collections import defaultdict\n",
    "# Load English language model\n",
    "nlp = spacy.load(\"en_core_web_sm\")\n",
    "tokenizer = RegexpTokenizer(r'\\w+')\n",
    "# 加载预训练的语言模型\n",
    "tokenizer = RegexpTokenizer(r'\\w+')\n",
    "#/////////////////////////////////////////////\n",
    "nltk.download(\"punkt\")\n",
    "nltk.download('averaged_perceptron_tagger')\n",
    "font = 'msyh.ttc'  #設定字型\n",
    "text_Set = []\n",
    "# POS_Dict={}\n",
    "POS_Dict_record = defaultdict(int)\n",
    "# Dictionary for part of speech conversion\n",
    "POS_Dict = {\n",
    "    'Null': 'Null', 'cont': 'cont', 'CC': 'conj', 'CD': 'n', 'DT': 'art',\n",
    "    'EX': 'pron', 'FW': 'fw', 'IN': 'prep', 'JJ': 'adj', 'JJR': 'adj',\n",
    "    'JJS': 'adj', 'LS': 'n', 'MD': 'v', 'NN': 'n', 'NNS': 'n', 'NNP': 'n',\n",
    "    'NNPS': 'n', 'PDT': 'n', 'POS': 'pron', 'PRP': 'pron', 'PRP$': 'pron',\n",
    "    'RB': 'adv', 'RBR': 'adv', 'RBS': 'adv', 'RP': 'prep', 'SYM': 'sym',\n",
    "    'TO': 'to', 'UH': 'n', 'VB': 'v', 'VBD': 'v', 'VBG': 'v',\n",
    "    'VBN': 'v', 'VBP': 'v', 'VBZ': 'v', 'WDT': 'art', 'WP': 'pronoun',\n",
    "    'WP$': 'pronoun', 'WRB': 'adv'\n",
    "}\n",
    "\n",
    "# SaveFile dictionary\n",
    "SaveFile = {\n",
    "    1: 'Eword', 2: 'Cword', 3: 'Eword_V', 4: 'Cword_V', 5: 'Eword_N',\n",
    "    6: 'Cword_N', 7: 'Eword_AD', 8: 'Cword_AD'\n",
    "}\n",
    "\n",
    "# Function to get part of speech for tokens\n",
    "# (She,pron)(is,verb)(a,art)(wonderful,adj)(cook,n)\n",
    "def Get_Pos_dict2(tokens):\n",
    "    poslist = []\n",
    "    ANS_str = \"\"\n",
    "#     pos_feats = keyin_pos_feats.value\n",
    "    pos_feats = keyin_pos_feats.value.split(\" \")\n",
    "    Stopwords = Stop_word.value.split(\" \")\n",
    "#     print(\"pos_feats\",pos_feats)\n",
    "    poss = nltk.pos_tag(tokens)\n",
    "    for pos in poss:\n",
    "        try:\n",
    "            ANS_str += f'{pos[0]}({POS_Dict[pos[1]]}),'\n",
    "#             print(POS_Dict[pos[1]],pos[0])\n",
    "            if pos[0] not in Stopwords:\n",
    "                if \"all\" in pos_feats:\n",
    "                    poslist.append(f'{pos[0]}')\n",
    "    #                 print(pos[0],POS_Dict[pos[1]])\n",
    "                    POS_Dict_record[POS_Dict[pos[1]]]+=1\n",
    "                elif POS_Dict[pos[1]] in pos_feats:\n",
    "                    poslist.append(f'{pos[0]}')\n",
    "                    POS_Dict_record[POS_Dict[pos[1]]]+=1\n",
    "    #                 print(pos[0],POS_Dict[pos[1]])\n",
    "        except:\n",
    "            pass\n",
    "    return poslist\n",
    "# Function to get content from Wikipedia\n",
    "def Get_wiki_Context(url, headers_code=\"\"):\n",
    "    content_text = \"\"\n",
    "    response = rq.get(url, headers=headers_code)\n",
    "    bs = BeautifulSoup(response.text, 'html.parser')\n",
    "    p_list = bs.find_all('p')\n",
    "    for p in p_list:\n",
    "        content_text += p.text.replace(\"\\n\", \"\")\n",
    "    return content_text, \"wiki\"\n",
    "\n",
    "# Function to process web URLs\n",
    "\n",
    "def getWebText(web_url, filename):\n",
    "    global urlfilename\n",
    "    for i, url in enumerate(tqdm(web_url, desc=\"Processing URLs\")):\n",
    "        if \"wiki\" in url:\n",
    "            context, filetype = Get_wiki_Context(url)\n",
    "            urlfilename = url.split(\"/\")[-1]\n",
    "            # sentences = nltk.sent_tokenize(context)\n",
    "            sentences = sent_tokenize(context) # 斷句\n",
    "            text_POS = []\n",
    "            text_NER = []\n",
    "            for index, sentence in enumerate(sentences):\n",
    "                tokens1 = tokenizer.tokenize(sentence)\n",
    "\n",
    "                text_Set.extend(Get_Pos_dict2(tokens1))\n",
    "\n",
    "    return context\n",
    "\n",
    "# Function to handle button click\n",
    "def on_submit_button_clicked(b):\n",
    "    global urlfilename\n",
    "    result = text_area.value\n",
    "    text_Set.clear()\n",
    "    POS_Dict_record.clear()\n",
    "    web_urls = result.splitlines()\n",
    "    getWebText(web_urls, category_name.value)\n",
    "    if(sum(POS_Dict_record.values())<3):\n",
    "        print(\"詞彙數=\", sum(POS_Dict_record.values()),\"詞彙數必須大於 3 !!\")\n",
    "        return\n",
    "    print(POS_Dict_record)\n",
    "    filename=\"propose_marriage.png\"  #leaf.png  propose_marriage.jpg\n",
    "    filename=text_image.value\n",
    "    mask = np.array(Image.open(filename))\n",
    "    diction = Counter(text_Set)\n",
    "    wordcloud = WordCloud(background_color=\"white\",mask=mask)  #背景顏色預設黑色,改為白色\n",
    "    wordcloud.generate_from_frequencies(frequencies=diction)  #產生文字雲\n",
    "\n",
    "    featfile=keyin_pos_feats.value.replace(\" \",\"_\")\n",
    "    savename=f\"Wordcloud_Result_{urlfilename}_{featfile}.png\"\n",
    "    print(savename)\n",
    "    wordcloud.to_file(savename)  #存檔\n",
    "    #     print()\n",
    "    os.system(\"start mspaint.EXE \" + savename)\n",
    "    show_word.value = \"Processing complete.\"\n",
    "\n",
    "# Text widgets\n",
    "text_area = widgets.Text(\n",
    "    value='',\n",
    "    placeholder='Enter URL',\n",
    "    description='輸入網址:',\n",
    "    layout=widgets.Layout(width='80%')\n",
    ")\n",
    "text_image = widgets.Text(\n",
    "    value='propose_marriage.png',\n",
    "    placeholder='propose_marriage.png',\n",
    "    description='image_file',\n",
    "    layout=widgets.Layout(width='80%')\n",
    ")\n",
    "\n",
    "category_name = widgets.Text(\n",
    "    value='Cut_POS_NER',\n",
    "    description='Category:',\n",
    "    layout=widgets.Layout(width='80%')\n",
    ")\n",
    "\n",
    "Stop_word = widgets.Text(\n",
    "    value='be is are',\n",
    "    placeholder='Stop Word:',\n",
    "    description='輸入停用詞',\n",
    "    layout=widgets.Layout(width='80%')\n",
    ")\n",
    "\n",
    "keyin_pos_feats = widgets.Text(\n",
    "    value='all',\n",
    "    placeholder='輸入POS or all:',\n",
    "    description='輸入POS',\n",
    "    layout=widgets.Layout(width='80%')\n",
    ")\n",
    "\n",
    "submit_button = widgets.Button(\n",
    "    description='確定',\n",
    "    button_style='success',\n",
    "    tooltip='Click to submit'\n",
    ")\n",
    "urlfilename=\"\"\n",
    "# pos_feats=[\"verb\",\"n\",\"adj\",\"all\"]\n",
    "# Display widgets\n",
    "display( category_name,text_image,Stop_word,keyin_pos_feats, text_area, submit_button)\n",
    "\n",
    "# Output area\n",
    "show_word = widgets.Label(value=\"Waiting..\")\n",
    "display(show_word)\n",
    "\n",
    "# Bind button clicks to functions\n",
    "submit_button.on_click(on_submit_button_clicked)\n"
   ]
  },
  {
   "cell_type": "code",
   "execution_count": null,
   "id": "bd7f1e68",
   "metadata": {
    "id": "bd7f1e68"
   },
   "outputs": [],
   "source": []
  }
 ],
 "metadata": {
  "colab": {
   "provenance": []
  },
  "kernelspec": {
   "display_name": "Python 3 (ipykernel)",
   "language": "python",
   "name": "python3"
  },
  "language_info": {
   "codemirror_mode": {
    "name": "ipython",
    "version": 3
   },
   "file_extension": ".py",
   "mimetype": "text/x-python",
   "name": "python",
   "nbconvert_exporter": "python",
   "pygments_lexer": "ipython3",
   "version": "3.11.5"
  },
  "widgets": {
   "application/vnd.jupyter.widget-state+json": {
    "0023cee2281f40108a4a0fe1f40210c7": {
     "model_module": "@jupyter-widgets/base",
     "model_module_version": "1.2.0",
     "model_name": "LayoutModel",
     "state": {
      "_model_module": "@jupyter-widgets/base",
      "_model_module_version": "1.2.0",
      "_model_name": "LayoutModel",
      "_view_count": null,
      "_view_module": "@jupyter-widgets/base",
      "_view_module_version": "1.2.0",
      "_view_name": "LayoutView",
      "align_content": null,
      "align_items": null,
      "align_self": null,
      "border": null,
      "bottom": null,
      "display": null,
      "flex": null,
      "flex_flow": null,
      "grid_area": null,
      "grid_auto_columns": null,
      "grid_auto_flow": null,
      "grid_auto_rows": null,
      "grid_column": null,
      "grid_gap": null,
      "grid_row": null,
      "grid_template_areas": null,
      "grid_template_columns": null,
      "grid_template_rows": null,
      "height": null,
      "justify_content": null,
      "justify_items": null,
      "left": null,
      "margin": null,
      "max_height": null,
      "max_width": null,
      "min_height": null,
      "min_width": null,
      "object_fit": null,
      "object_position": null,
      "order": null,
      "overflow": null,
      "overflow_x": null,
      "overflow_y": null,
      "padding": null,
      "right": null,
      "top": null,
      "visibility": null,
      "width": null
     }
    },
    "088351d4738543cd90980cb151165c74": {
     "model_module": "@jupyter-widgets/controls",
     "model_module_version": "1.5.0",
     "model_name": "DescriptionStyleModel",
     "state": {
      "_model_module": "@jupyter-widgets/controls",
      "_model_module_version": "1.5.0",
      "_model_name": "DescriptionStyleModel",
      "_view_count": null,
      "_view_module": "@jupyter-widgets/base",
      "_view_module_version": "1.2.0",
      "_view_name": "StyleView",
      "description_width": ""
     }
    },
    "1128a7e43e684b08bb670c0890267980": {
     "model_module": "@jupyter-widgets/controls",
     "model_module_version": "1.5.0",
     "model_name": "DescriptionStyleModel",
     "state": {
      "_model_module": "@jupyter-widgets/controls",
      "_model_module_version": "1.5.0",
      "_model_name": "DescriptionStyleModel",
      "_view_count": null,
      "_view_module": "@jupyter-widgets/base",
      "_view_module_version": "1.2.0",
      "_view_name": "StyleView",
      "description_width": ""
     }
    },
    "2cfb96c0373644f89256a79ee46d9ed4": {
     "model_module": "@jupyter-widgets/base",
     "model_module_version": "1.2.0",
     "model_name": "LayoutModel",
     "state": {
      "_model_module": "@jupyter-widgets/base",
      "_model_module_version": "1.2.0",
      "_model_name": "LayoutModel",
      "_view_count": null,
      "_view_module": "@jupyter-widgets/base",
      "_view_module_version": "1.2.0",
      "_view_name": "LayoutView",
      "align_content": null,
      "align_items": null,
      "align_self": null,
      "border": null,
      "bottom": null,
      "display": null,
      "flex": null,
      "flex_flow": null,
      "grid_area": null,
      "grid_auto_columns": null,
      "grid_auto_flow": null,
      "grid_auto_rows": null,
      "grid_column": null,
      "grid_gap": null,
      "grid_row": null,
      "grid_template_areas": null,
      "grid_template_columns": null,
      "grid_template_rows": null,
      "height": null,
      "justify_content": null,
      "justify_items": null,
      "left": null,
      "margin": null,
      "max_height": null,
      "max_width": null,
      "min_height": null,
      "min_width": null,
      "object_fit": null,
      "object_position": null,
      "order": null,
      "overflow": null,
      "overflow_x": null,
      "overflow_y": null,
      "padding": null,
      "right": null,
      "top": null,
      "visibility": null,
      "width": "80%"
     }
    },
    "40eba6aca31e4666805309278ede2aac": {
     "model_module": "@jupyter-widgets/controls",
     "model_module_version": "1.5.0",
     "model_name": "DescriptionStyleModel",
     "state": {
      "_model_module": "@jupyter-widgets/controls",
      "_model_module_version": "1.5.0",
      "_model_name": "DescriptionStyleModel",
      "_view_count": null,
      "_view_module": "@jupyter-widgets/base",
      "_view_module_version": "1.2.0",
      "_view_name": "StyleView",
      "description_width": ""
     }
    },
    "51abb9146ce24620aa7373fa7ebaf9b9": {
     "model_module": "@jupyter-widgets/base",
     "model_module_version": "1.2.0",
     "model_name": "LayoutModel",
     "state": {
      "_model_module": "@jupyter-widgets/base",
      "_model_module_version": "1.2.0",
      "_model_name": "LayoutModel",
      "_view_count": null,
      "_view_module": "@jupyter-widgets/base",
      "_view_module_version": "1.2.0",
      "_view_name": "LayoutView",
      "align_content": null,
      "align_items": null,
      "align_self": null,
      "border": null,
      "bottom": null,
      "display": null,
      "flex": null,
      "flex_flow": null,
      "grid_area": null,
      "grid_auto_columns": null,
      "grid_auto_flow": null,
      "grid_auto_rows": null,
      "grid_column": null,
      "grid_gap": null,
      "grid_row": null,
      "grid_template_areas": null,
      "grid_template_columns": null,
      "grid_template_rows": null,
      "height": null,
      "justify_content": null,
      "justify_items": null,
      "left": null,
      "margin": null,
      "max_height": null,
      "max_width": null,
      "min_height": null,
      "min_width": null,
      "object_fit": null,
      "object_position": null,
      "order": null,
      "overflow": null,
      "overflow_x": null,
      "overflow_y": null,
      "padding": null,
      "right": null,
      "top": null,
      "visibility": null,
      "width": "80%"
     }
    },
    "5bcfb466c3dd43889c2bb4f441d8186e": {
     "model_module": "@jupyter-widgets/controls",
     "model_module_version": "1.5.0",
     "model_name": "ButtonStyleModel",
     "state": {
      "_model_module": "@jupyter-widgets/controls",
      "_model_module_version": "1.5.0",
      "_model_name": "ButtonStyleModel",
      "_view_count": null,
      "_view_module": "@jupyter-widgets/base",
      "_view_module_version": "1.2.0",
      "_view_name": "StyleView",
      "button_color": null,
      "font_weight": ""
     }
    },
    "5cb793b0ba024552b8cf2eefd465b77a": {
     "model_module": "@jupyter-widgets/controls",
     "model_module_version": "1.5.0",
     "model_name": "DescriptionStyleModel",
     "state": {
      "_model_module": "@jupyter-widgets/controls",
      "_model_module_version": "1.5.0",
      "_model_name": "DescriptionStyleModel",
      "_view_count": null,
      "_view_module": "@jupyter-widgets/base",
      "_view_module_version": "1.2.0",
      "_view_name": "StyleView",
      "description_width": ""
     }
    },
    "60a9949721ce45d89eefaeb6f8ade53f": {
     "model_module": "@jupyter-widgets/controls",
     "model_module_version": "1.5.0",
     "model_name": "ButtonModel",
     "state": {
      "_dom_classes": [],
      "_model_module": "@jupyter-widgets/controls",
      "_model_module_version": "1.5.0",
      "_model_name": "ButtonModel",
      "_view_count": null,
      "_view_module": "@jupyter-widgets/controls",
      "_view_module_version": "1.5.0",
      "_view_name": "ButtonView",
      "button_style": "success",
      "description": "確定",
      "disabled": false,
      "icon": "",
      "layout": "IPY_MODEL_0023cee2281f40108a4a0fe1f40210c7",
      "style": "IPY_MODEL_5bcfb466c3dd43889c2bb4f441d8186e",
      "tooltip": "Click to submit"
     }
    },
    "85e5d9a68be4446d8a671d1ac2083c94": {
     "model_module": "@jupyter-widgets/controls",
     "model_module_version": "1.5.0",
     "model_name": "TextModel",
     "state": {
      "_dom_classes": [],
      "_model_module": "@jupyter-widgets/controls",
      "_model_module_version": "1.5.0",
      "_model_name": "TextModel",
      "_view_count": null,
      "_view_module": "@jupyter-widgets/controls",
      "_view_module_version": "1.5.0",
      "_view_name": "TextView",
      "continuous_update": true,
      "description": "輸入網址:",
      "description_tooltip": null,
      "disabled": false,
      "layout": "IPY_MODEL_c7f8b6b5cead4269aa13bea067d4a016",
      "placeholder": "Enter URL",
      "style": "IPY_MODEL_1128a7e43e684b08bb670c0890267980",
      "value": "https://en.wikipedia.org/wiki/Apple"
     }
    },
    "a804be90fc684d31af37ade5349bf699": {
     "model_module": "@jupyter-widgets/controls",
     "model_module_version": "1.5.0",
     "model_name": "TextModel",
     "state": {
      "_dom_classes": [],
      "_model_module": "@jupyter-widgets/controls",
      "_model_module_version": "1.5.0",
      "_model_name": "TextModel",
      "_view_count": null,
      "_view_module": "@jupyter-widgets/controls",
      "_view_module_version": "1.5.0",
      "_view_name": "TextView",
      "continuous_update": true,
      "description": "image_file",
      "description_tooltip": null,
      "disabled": false,
      "layout": "IPY_MODEL_f3ed3ea271734368aaa5136f60dedf60",
      "placeholder": "propose_marriage.png",
      "style": "IPY_MODEL_40eba6aca31e4666805309278ede2aac",
      "value": "propose_marriage.png"
     }
    },
    "c7f8b6b5cead4269aa13bea067d4a016": {
     "model_module": "@jupyter-widgets/base",
     "model_module_version": "1.2.0",
     "model_name": "LayoutModel",
     "state": {
      "_model_module": "@jupyter-widgets/base",
      "_model_module_version": "1.2.0",
      "_model_name": "LayoutModel",
      "_view_count": null,
      "_view_module": "@jupyter-widgets/base",
      "_view_module_version": "1.2.0",
      "_view_name": "LayoutView",
      "align_content": null,
      "align_items": null,
      "align_self": null,
      "border": null,
      "bottom": null,
      "display": null,
      "flex": null,
      "flex_flow": null,
      "grid_area": null,
      "grid_auto_columns": null,
      "grid_auto_flow": null,
      "grid_auto_rows": null,
      "grid_column": null,
      "grid_gap": null,
      "grid_row": null,
      "grid_template_areas": null,
      "grid_template_columns": null,
      "grid_template_rows": null,
      "height": null,
      "justify_content": null,
      "justify_items": null,
      "left": null,
      "margin": null,
      "max_height": null,
      "max_width": null,
      "min_height": null,
      "min_width": null,
      "object_fit": null,
      "object_position": null,
      "order": null,
      "overflow": null,
      "overflow_x": null,
      "overflow_y": null,
      "padding": null,
      "right": null,
      "top": null,
      "visibility": null,
      "width": "80%"
     }
    },
    "d127ea4bdfa34f5aae42ca27669d1034": {
     "model_module": "@jupyter-widgets/controls",
     "model_module_version": "1.5.0",
     "model_name": "LabelModel",
     "state": {
      "_dom_classes": [],
      "_model_module": "@jupyter-widgets/controls",
      "_model_module_version": "1.5.0",
      "_model_name": "LabelModel",
      "_view_count": null,
      "_view_module": "@jupyter-widgets/controls",
      "_view_module_version": "1.5.0",
      "_view_name": "LabelView",
      "description": "",
      "description_tooltip": null,
      "layout": "IPY_MODEL_d1872d6cfd15476f8d11aa07071c9e8d",
      "placeholder": "​",
      "style": "IPY_MODEL_088351d4738543cd90980cb151165c74",
      "value": "Processing complete."
     }
    },
    "d1872d6cfd15476f8d11aa07071c9e8d": {
     "model_module": "@jupyter-widgets/base",
     "model_module_version": "1.2.0",
     "model_name": "LayoutModel",
     "state": {
      "_model_module": "@jupyter-widgets/base",
      "_model_module_version": "1.2.0",
      "_model_name": "LayoutModel",
      "_view_count": null,
      "_view_module": "@jupyter-widgets/base",
      "_view_module_version": "1.2.0",
      "_view_name": "LayoutView",
      "align_content": null,
      "align_items": null,
      "align_self": null,
      "border": null,
      "bottom": null,
      "display": null,
      "flex": null,
      "flex_flow": null,
      "grid_area": null,
      "grid_auto_columns": null,
      "grid_auto_flow": null,
      "grid_auto_rows": null,
      "grid_column": null,
      "grid_gap": null,
      "grid_row": null,
      "grid_template_areas": null,
      "grid_template_columns": null,
      "grid_template_rows": null,
      "height": null,
      "justify_content": null,
      "justify_items": null,
      "left": null,
      "margin": null,
      "max_height": null,
      "max_width": null,
      "min_height": null,
      "min_width": null,
      "object_fit": null,
      "object_position": null,
      "order": null,
      "overflow": null,
      "overflow_x": null,
      "overflow_y": null,
      "padding": null,
      "right": null,
      "top": null,
      "visibility": null,
      "width": null
     }
    },
    "ded9edabe8fe4642825842044d767eb1": {
     "model_module": "@jupyter-widgets/controls",
     "model_module_version": "1.5.0",
     "model_name": "DescriptionStyleModel",
     "state": {
      "_model_module": "@jupyter-widgets/controls",
      "_model_module_version": "1.5.0",
      "_model_name": "DescriptionStyleModel",
      "_view_count": null,
      "_view_module": "@jupyter-widgets/base",
      "_view_module_version": "1.2.0",
      "_view_name": "StyleView",
      "description_width": ""
     }
    },
    "e6bfa62ff56e4426927355d0cd479866": {
     "model_module": "@jupyter-widgets/controls",
     "model_module_version": "1.5.0",
     "model_name": "TextModel",
     "state": {
      "_dom_classes": [],
      "_model_module": "@jupyter-widgets/controls",
      "_model_module_version": "1.5.0",
      "_model_name": "TextModel",
      "_view_count": null,
      "_view_module": "@jupyter-widgets/controls",
      "_view_module_version": "1.5.0",
      "_view_name": "TextView",
      "continuous_update": true,
      "description": "輸入POS",
      "description_tooltip": null,
      "disabled": false,
      "layout": "IPY_MODEL_51abb9146ce24620aa7373fa7ebaf9b9",
      "placeholder": "輸入POS or all:",
      "style": "IPY_MODEL_5cb793b0ba024552b8cf2eefd465b77a",
      "value": "v"
     }
    },
    "f308c5f7f68b4599940530c6a197d71c": {
     "model_module": "@jupyter-widgets/controls",
     "model_module_version": "1.5.0",
     "model_name": "TextModel",
     "state": {
      "_dom_classes": [],
      "_model_module": "@jupyter-widgets/controls",
      "_model_module_version": "1.5.0",
      "_model_name": "TextModel",
      "_view_count": null,
      "_view_module": "@jupyter-widgets/controls",
      "_view_module_version": "1.5.0",
      "_view_name": "TextView",
      "continuous_update": true,
      "description": "Category:",
      "description_tooltip": null,
      "disabled": false,
      "layout": "IPY_MODEL_2cfb96c0373644f89256a79ee46d9ed4",
      "placeholder": "​",
      "style": "IPY_MODEL_ded9edabe8fe4642825842044d767eb1",
      "value": "Cut_POS_NER"
     }
    },
    "f3ed3ea271734368aaa5136f60dedf60": {
     "model_module": "@jupyter-widgets/base",
     "model_module_version": "1.2.0",
     "model_name": "LayoutModel",
     "state": {
      "_model_module": "@jupyter-widgets/base",
      "_model_module_version": "1.2.0",
      "_model_name": "LayoutModel",
      "_view_count": null,
      "_view_module": "@jupyter-widgets/base",
      "_view_module_version": "1.2.0",
      "_view_name": "LayoutView",
      "align_content": null,
      "align_items": null,
      "align_self": null,
      "border": null,
      "bottom": null,
      "display": null,
      "flex": null,
      "flex_flow": null,
      "grid_area": null,
      "grid_auto_columns": null,
      "grid_auto_flow": null,
      "grid_auto_rows": null,
      "grid_column": null,
      "grid_gap": null,
      "grid_row": null,
      "grid_template_areas": null,
      "grid_template_columns": null,
      "grid_template_rows": null,
      "height": null,
      "justify_content": null,
      "justify_items": null,
      "left": null,
      "margin": null,
      "max_height": null,
      "max_width": null,
      "min_height": null,
      "min_width": null,
      "object_fit": null,
      "object_position": null,
      "order": null,
      "overflow": null,
      "overflow_x": null,
      "overflow_y": null,
      "padding": null,
      "right": null,
      "top": null,
      "visibility": null,
      "width": "80%"
     }
    }
   }
  }
 },
 "nbformat": 4,
 "nbformat_minor": 5
}
